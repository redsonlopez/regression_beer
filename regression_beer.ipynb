{
 "cells": [
  {
   "cell_type": "markdown",
   "metadata": {
    "id": "YLq87MdppJJU"
   },
   "source": [
    "# <b><i>Modelo de Regressão Linear<br> </b>Consumo de Cerveja</i>\n",
    "\n",
    "### Variáveis:\n",
    "* **Data:** Data do registro\n",
    "* **Temperatura_Media:** Temperatura média\n",
    "* **Temperatura_Minima:** Temperatura mínima\n",
    "* **Temperatura_Maxima:** Temperatura máxima\n",
    "* **Precipitação:** Hidrometeoros (Chuva, Neve, Chuvisco, etc) que caem das nuvens em direção ao solo.\n",
    "* **Final_de_Semana:** Final de semana (Sim ou Não)\n",
    "* **Consumo:** Quantidade de consumo\n",
    "\n",
    "### Importação das bibliotécas"
   ]
  },
  {
   "cell_type": "code",
   "execution_count": 42,
   "metadata": {
    "id": "onvMIf5aR1jG"
   },
   "outputs": [],
   "source": [
    "import numpy as np\n",
    "import pandas as pd\n",
    "import seaborn as sns\n",
    "from mlxtend.feature_selection import SequentialFeatureSelector as SFS\n",
    "from scipy.stats import shapiro, pearsonr, spearmanr, kendalltau\n",
    "from sklearn.linear_model import LinearRegression, Lasso\n",
    "from sklearn.metrics import mean_absolute_error, mean_squared_error\n",
    "from sklearn.model_selection import train_test_split, GridSearchCV\n",
    "from sklearn.preprocessing import StandardScaler, MinMaxScaler"
   ]
  },
  {
   "cell_type": "markdown",
   "metadata": {
    "id": "BH7nya4yDJe0"
   },
   "source": [
    "### Configurações para os gráficos"
   ]
  },
  {
   "cell_type": "code",
   "execution_count": 43,
   "metadata": {
    "id": "xzkIj3jW2Zx3"
   },
   "outputs": [],
   "source": [
    "plot_config= {\n",
    "        \"axes.facecolor\": \"#fff\",       # Cor de fundo dos gráficos\n",
    "        \"axes.spines.top\": False,       # Remover borda superior\n",
    "        \"axes.spines.right\": False,     # Remover borda direita\n",
    "        \"axes.grid\": False,             # Remover grades\n",
    "        \"figure.figsize\": (15, 6)       # Tamanho padrão da figura\n",
    "}\n",
    "sns.set_theme(rc= plot_config)"
   ]
  },
  {
   "cell_type": "markdown",
   "metadata": {
    "id": "pW_2K52pDToi"
   },
   "source": [
    "### Carga dos dados e configuração para exibição numérica"
   ]
  },
  {
   "cell_type": "code",
   "execution_count": 44,
   "metadata": {
    "colab": {
     "base_uri": "https://localhost:8080/",
     "height": 161
    },
    "id": "OUgqYNDL2f2T",
    "outputId": "c4f7afd9-948d-44de-b99f-db58936976f8"
   },
   "outputs": [
    {
     "data": {
      "text/html": [
       "<div>\n",
       "<style scoped>\n",
       "    .dataframe tbody tr th:only-of-type {\n",
       "        vertical-align: middle;\n",
       "    }\n",
       "\n",
       "    .dataframe tbody tr th {\n",
       "        vertical-align: top;\n",
       "    }\n",
       "\n",
       "    .dataframe thead th {\n",
       "        text-align: right;\n",
       "    }\n",
       "</style>\n",
       "<table border=\"1\" class=\"dataframe\">\n",
       "  <thead>\n",
       "    <tr style=\"text-align: right;\">\n",
       "      <th></th>\n",
       "      <th>Data</th>\n",
       "      <th>Temperatura_Media</th>\n",
       "      <th>Temperatura_Minima</th>\n",
       "      <th>Temperatura_Maxima</th>\n",
       "      <th>Precipitacao</th>\n",
       "      <th>Final_de_Semana</th>\n",
       "      <th>Consumo</th>\n",
       "    </tr>\n",
       "  </thead>\n",
       "  <tbody>\n",
       "    <tr>\n",
       "      <th>0</th>\n",
       "      <td>01/01/2015</td>\n",
       "      <td>27.30</td>\n",
       "      <td>23.90</td>\n",
       "      <td>32.50</td>\n",
       "      <td>0.00</td>\n",
       "      <td>0</td>\n",
       "      <td>25.46</td>\n",
       "    </tr>\n",
       "    <tr>\n",
       "      <th>1</th>\n",
       "      <td>02/01/2015</td>\n",
       "      <td>27.02</td>\n",
       "      <td>24.50</td>\n",
       "      <td>33.50</td>\n",
       "      <td>0.00</td>\n",
       "      <td>0</td>\n",
       "      <td>28.97</td>\n",
       "    </tr>\n",
       "    <tr>\n",
       "      <th>2</th>\n",
       "      <td>03/01/2015</td>\n",
       "      <td>24.82</td>\n",
       "      <td>22.40</td>\n",
       "      <td>29.90</td>\n",
       "      <td>0.00</td>\n",
       "      <td>1</td>\n",
       "      <td>30.81</td>\n",
       "    </tr>\n",
       "  </tbody>\n",
       "</table>\n",
       "</div>"
      ],
      "text/plain": [
       "         Data  Temperatura_Media  Temperatura_Minima  Temperatura_Maxima  \\\n",
       "0  01/01/2015              27.30               23.90               32.50   \n",
       "1  02/01/2015              27.02               24.50               33.50   \n",
       "2  03/01/2015              24.82               22.40               29.90   \n",
       "\n",
       "   Precipitacao  Final_de_Semana  Consumo  \n",
       "0          0.00                0    25.46  \n",
       "1          0.00                0    28.97  \n",
       "2          0.00                1    30.81  "
      ]
     },
     "execution_count": 44,
     "metadata": {},
     "output_type": "execute_result"
    }
   ],
   "source": [
    "df = pd.read_csv(\"data/consumo_cerveja.csv\")\n",
    "pd.options.display.float_format = '{:.2f}'.format\n",
    "\n",
    "df.head(3)"
   ]
  },
  {
   "cell_type": "markdown",
   "metadata": {
    "id": "_PumN25NDklp"
   },
   "source": [
    "### Quantidade de dados nulos para cada variável"
   ]
  },
  {
   "cell_type": "code",
   "execution_count": 45,
   "metadata": {
    "colab": {
     "base_uri": "https://localhost:8080/",
     "height": 304
    },
    "id": "0jNOTOUR_FfN",
    "outputId": "36ae0339-0213-4d12-f6d8-b05fbfd56fa7"
   },
   "outputs": [
    {
     "data": {
      "text/plain": [
       "Data                  0\n",
       "Temperatura_Media     0\n",
       "Temperatura_Minima    0\n",
       "Temperatura_Maxima    0\n",
       "Precipitacao          0\n",
       "Final_de_Semana       0\n",
       "Consumo               0\n",
       "dtype: int64"
      ]
     },
     "execution_count": 45,
     "metadata": {},
     "output_type": "execute_result"
    }
   ],
   "source": [
    "df.isna().sum()"
   ]
  },
  {
   "cell_type": "markdown",
   "metadata": {
    "id": "cmMQ6I09Dqnn"
   },
   "source": [
    "### Tipo dos dados"
   ]
  },
  {
   "cell_type": "code",
   "execution_count": 46,
   "metadata": {
    "colab": {
     "base_uri": "https://localhost:8080/",
     "height": 304
    },
    "id": "VPG15rRK-flC",
    "outputId": "5f30837c-5f27-4955-ad83-1bc0c52aea20"
   },
   "outputs": [
    {
     "data": {
      "text/plain": [
       "Data                   object\n",
       "Temperatura_Media     float64\n",
       "Temperatura_Minima    float64\n",
       "Temperatura_Maxima    float64\n",
       "Precipitacao          float64\n",
       "Final_de_Semana         int64\n",
       "Consumo               float64\n",
       "dtype: object"
      ]
     },
     "execution_count": 46,
     "metadata": {},
     "output_type": "execute_result"
    }
   ],
   "source": [
    "df.dtypes"
   ]
  },
  {
   "cell_type": "markdown",
   "metadata": {
    "id": "i6vNRj9pnSi-"
   },
   "source": [
    "### Analise descritiva das medidas de tendencia central"
   ]
  },
  {
   "cell_type": "code",
   "execution_count": 47,
   "metadata": {
    "colab": {
     "base_uri": "https://localhost:8080/",
     "height": 300
    },
    "id": "ZB1eSv0x_hQB",
    "outputId": "9dfe407d-0d20-4293-92d9-e174f2847899"
   },
   "outputs": [
    {
     "data": {
      "text/html": [
       "<div>\n",
       "<style scoped>\n",
       "    .dataframe tbody tr th:only-of-type {\n",
       "        vertical-align: middle;\n",
       "    }\n",
       "\n",
       "    .dataframe tbody tr th {\n",
       "        vertical-align: top;\n",
       "    }\n",
       "\n",
       "    .dataframe thead th {\n",
       "        text-align: right;\n",
       "    }\n",
       "</style>\n",
       "<table border=\"1\" class=\"dataframe\">\n",
       "  <thead>\n",
       "    <tr style=\"text-align: right;\">\n",
       "      <th></th>\n",
       "      <th>Temperatura_Media</th>\n",
       "      <th>Temperatura_Minima</th>\n",
       "      <th>Temperatura_Maxima</th>\n",
       "      <th>Precipitacao</th>\n",
       "      <th>Final_de_Semana</th>\n",
       "      <th>Consumo</th>\n",
       "    </tr>\n",
       "  </thead>\n",
       "  <tbody>\n",
       "    <tr>\n",
       "      <th>count</th>\n",
       "      <td>365.00</td>\n",
       "      <td>365.00</td>\n",
       "      <td>365.00</td>\n",
       "      <td>365.00</td>\n",
       "      <td>365.00</td>\n",
       "      <td>365.00</td>\n",
       "    </tr>\n",
       "    <tr>\n",
       "      <th>mean</th>\n",
       "      <td>21.23</td>\n",
       "      <td>17.46</td>\n",
       "      <td>26.61</td>\n",
       "      <td>5.20</td>\n",
       "      <td>0.28</td>\n",
       "      <td>25.40</td>\n",
       "    </tr>\n",
       "    <tr>\n",
       "      <th>std</th>\n",
       "      <td>3.18</td>\n",
       "      <td>2.83</td>\n",
       "      <td>4.32</td>\n",
       "      <td>12.42</td>\n",
       "      <td>0.45</td>\n",
       "      <td>4.40</td>\n",
       "    </tr>\n",
       "    <tr>\n",
       "      <th>min</th>\n",
       "      <td>12.90</td>\n",
       "      <td>10.60</td>\n",
       "      <td>14.50</td>\n",
       "      <td>0.00</td>\n",
       "      <td>0.00</td>\n",
       "      <td>14.34</td>\n",
       "    </tr>\n",
       "    <tr>\n",
       "      <th>25%</th>\n",
       "      <td>19.02</td>\n",
       "      <td>15.30</td>\n",
       "      <td>23.80</td>\n",
       "      <td>0.00</td>\n",
       "      <td>0.00</td>\n",
       "      <td>22.01</td>\n",
       "    </tr>\n",
       "    <tr>\n",
       "      <th>50%</th>\n",
       "      <td>21.38</td>\n",
       "      <td>17.90</td>\n",
       "      <td>26.90</td>\n",
       "      <td>0.00</td>\n",
       "      <td>0.00</td>\n",
       "      <td>24.87</td>\n",
       "    </tr>\n",
       "    <tr>\n",
       "      <th>75%</th>\n",
       "      <td>23.28</td>\n",
       "      <td>19.60</td>\n",
       "      <td>29.40</td>\n",
       "      <td>3.20</td>\n",
       "      <td>1.00</td>\n",
       "      <td>28.63</td>\n",
       "    </tr>\n",
       "    <tr>\n",
       "      <th>max</th>\n",
       "      <td>28.86</td>\n",
       "      <td>24.50</td>\n",
       "      <td>36.50</td>\n",
       "      <td>94.80</td>\n",
       "      <td>1.00</td>\n",
       "      <td>37.94</td>\n",
       "    </tr>\n",
       "  </tbody>\n",
       "</table>\n",
       "</div>"
      ],
      "text/plain": [
       "       Temperatura_Media  Temperatura_Minima  Temperatura_Maxima  \\\n",
       "count             365.00              365.00              365.00   \n",
       "mean               21.23               17.46               26.61   \n",
       "std                 3.18                2.83                4.32   \n",
       "min                12.90               10.60               14.50   \n",
       "25%                19.02               15.30               23.80   \n",
       "50%                21.38               17.90               26.90   \n",
       "75%                23.28               19.60               29.40   \n",
       "max                28.86               24.50               36.50   \n",
       "\n",
       "       Precipitacao  Final_de_Semana  Consumo  \n",
       "count        365.00           365.00   365.00  \n",
       "mean           5.20             0.28    25.40  \n",
       "std           12.42             0.45     4.40  \n",
       "min            0.00             0.00    14.34  \n",
       "25%            0.00             0.00    22.01  \n",
       "50%            0.00             0.00    24.87  \n",
       "75%            3.20             1.00    28.63  \n",
       "max           94.80             1.00    37.94  "
      ]
     },
     "execution_count": 47,
     "metadata": {},
     "output_type": "execute_result"
    }
   ],
   "source": [
    "df.describe()"
   ]
  },
  {
   "cell_type": "markdown",
   "metadata": {
    "id": "g_DtlV--8hWR"
   },
   "source": [
    "### Visualização para análise de outliers"
   ]
  },
  {
   "cell_type": "code",
   "execution_count": 48,
   "metadata": {
    "colab": {
     "base_uri": "https://localhost:8080/",
     "height": 682
    },
    "id": "2zWkfYO18kpO",
    "outputId": "c154f268-ed76-49b0-d3f1-57233fac6bd9"
   },
   "outputs": [
    {
     "data": {
      "image/png": "[encoded data removed]",
      "text/plain": [
       "<Figure size 1500x600 with 1 Axes>"
      ]
     },
     "metadata": {},
     "output_type": "display_data"
    }
   ],
   "source": [
    "sns.boxplot(df);"
   ]
  },
  {
   "cell_type": "markdown",
   "metadata": {
    "id": "tJkp2dDhBQTW"
   },
   "source": [
    "### Teste de normalidade das variáveis.\n",
    "Um valor de p <= 0.05 rejeitamos a hipótese nula,<br>\n",
    "ou seja, os dados não possuem distribuição normal."
   ]
  },
  {
   "cell_type": "code",
   "execution_count": 49,
   "metadata": {
    "colab": {
     "base_uri": "https://localhost:8080/"
    },
    "id": "lntU1D2NBUuq",
    "outputId": "aca47cf9-9c61-4ce6-d0ce-6482058fbf21"
   },
   "outputs": [
    {
     "name": "stdout",
     "output_type": "stream",
     "text": [
      "Teste de Normalidade (Shapiro-Wilk):\n",
      "\n",
      "Temperatura_Media: stat= 0.9915, p= 0.0341\n",
      "Temperatura_Minima: stat= 0.9843, p= 0.0005\n",
      "Temperatura_Maxima: stat= 0.9929, p= 0.0835\n",
      "Precipitacao: stat= 0.4832, p= 0.0000\n",
      "Final_de_Semana: stat= 0.5654, p= 0.0000\n",
      "Consumo: stat= 0.9886, p= 0.0058\n"
     ]
    }
   ],
   "source": [
    "df = df.drop(\"Data\", axis=1)\n",
    "\n",
    "print(\"Teste de Normalidade (Shapiro-Wilk):\\n\")\n",
    "for col in df.columns:\n",
    "  stat, p = shapiro(df[col])\n",
    "  print(f\"{col}: stat= {stat:.4f}, p= {p:.4f}\")"
   ]
  },
  {
   "cell_type": "markdown",
   "metadata": {
    "id": "r_Q554_HC4e9"
   },
   "source": [
    "### Correlação de Pearson\n",
    "O **Coeficiente de Correlação de Pearson** mede a **força** e a **direção** da relação linear entre duas variáveis quantitativas. Ele assume que as variáveis têm uma distribuição normal.\n",
    "\n",
    "- **Quando usar**: Pearson é utilizado quando as variáveis têm uma relação linear e ambas seguem uma **distribuição normal**.\n",
    "\n",
    "Onde $ r $ varia entre -1 e 1:\n",
    "  - $ r = 1 $: Correlação positiva perfeita\n",
    "  - $ r = -1 $: Correlação negativa perfeita\n",
    "  - $ r = 0 $: Sem correlação linear"
   ]
  },
  {
   "cell_type": "code",
   "execution_count": 50,
   "metadata": {
    "colab": {
     "base_uri": "https://localhost:8080/",
     "height": 238
    },
    "id": "OtG3s-0ODlgC",
    "outputId": "f60c1c2c-a00d-4cd7-f57a-36ca342f3818"
   },
   "outputs": [
    {
     "data": {
      "text/html": [
       "<div>\n",
       "<style scoped>\n",
       "    .dataframe tbody tr th:only-of-type {\n",
       "        vertical-align: middle;\n",
       "    }\n",
       "\n",
       "    .dataframe tbody tr th {\n",
       "        vertical-align: top;\n",
       "    }\n",
       "\n",
       "    .dataframe thead th {\n",
       "        text-align: right;\n",
       "    }\n",
       "</style>\n",
       "<table border=\"1\" class=\"dataframe\">\n",
       "  <thead>\n",
       "    <tr style=\"text-align: right;\">\n",
       "      <th></th>\n",
       "      <th>Temperatura_Media</th>\n",
       "      <th>Temperatura_Minima</th>\n",
       "      <th>Temperatura_Maxima</th>\n",
       "      <th>Precipitacao</th>\n",
       "      <th>Final_de_Semana</th>\n",
       "      <th>Consumo</th>\n",
       "    </tr>\n",
       "  </thead>\n",
       "  <tbody>\n",
       "    <tr>\n",
       "      <th>Temperatura_Media</th>\n",
       "      <td>1.00</td>\n",
       "      <td>0.86</td>\n",
       "      <td>0.92</td>\n",
       "      <td>0.02</td>\n",
       "      <td>-0.05</td>\n",
       "      <td>0.57</td>\n",
       "    </tr>\n",
       "    <tr>\n",
       "      <th>Temperatura_Minima</th>\n",
       "      <td>0.86</td>\n",
       "      <td>1.00</td>\n",
       "      <td>0.67</td>\n",
       "      <td>0.10</td>\n",
       "      <td>-0.06</td>\n",
       "      <td>0.39</td>\n",
       "    </tr>\n",
       "    <tr>\n",
       "      <th>Temperatura_Maxima</th>\n",
       "      <td>0.92</td>\n",
       "      <td>0.67</td>\n",
       "      <td>1.00</td>\n",
       "      <td>-0.05</td>\n",
       "      <td>-0.04</td>\n",
       "      <td>0.64</td>\n",
       "    </tr>\n",
       "    <tr>\n",
       "      <th>Precipitacao</th>\n",
       "      <td>0.02</td>\n",
       "      <td>0.10</td>\n",
       "      <td>-0.05</td>\n",
       "      <td>1.00</td>\n",
       "      <td>0.00</td>\n",
       "      <td>-0.19</td>\n",
       "    </tr>\n",
       "    <tr>\n",
       "      <th>Final_de_Semana</th>\n",
       "      <td>-0.05</td>\n",
       "      <td>-0.06</td>\n",
       "      <td>-0.04</td>\n",
       "      <td>0.00</td>\n",
       "      <td>1.00</td>\n",
       "      <td>0.51</td>\n",
       "    </tr>\n",
       "    <tr>\n",
       "      <th>Consumo</th>\n",
       "      <td>0.57</td>\n",
       "      <td>0.39</td>\n",
       "      <td>0.64</td>\n",
       "      <td>-0.19</td>\n",
       "      <td>0.51</td>\n",
       "      <td>1.00</td>\n",
       "    </tr>\n",
       "  </tbody>\n",
       "</table>\n",
       "</div>"
      ],
      "text/plain": [
       "                    Temperatura_Media  Temperatura_Minima  Temperatura_Maxima  \\\n",
       "Temperatura_Media                1.00                0.86                0.92   \n",
       "Temperatura_Minima               0.86                1.00                0.67   \n",
       "Temperatura_Maxima               0.92                0.67                1.00   \n",
       "Precipitacao                     0.02                0.10               -0.05   \n",
       "Final_de_Semana                 -0.05               -0.06               -0.04   \n",
       "Consumo                          0.57                0.39                0.64   \n",
       "\n",
       "                    Precipitacao  Final_de_Semana  Consumo  \n",
       "Temperatura_Media           0.02            -0.05     0.57  \n",
       "Temperatura_Minima          0.10            -0.06     0.39  \n",
       "Temperatura_Maxima         -0.05            -0.04     0.64  \n",
       "Precipitacao                1.00             0.00    -0.19  \n",
       "Final_de_Semana             0.00             1.00     0.51  \n",
       "Consumo                    -0.19             0.51     1.00  "
      ]
     },
     "execution_count": 50,
     "metadata": {},
     "output_type": "execute_result"
    }
   ],
   "source": [
    "corr_pearson = df.corr(method=\"pearson\")\n",
    "corr_pearson"
   ]
  },
  {
   "cell_type": "markdown",
   "metadata": {
    "id": "fCreXEZnKiFj"
   },
   "source": [
    "### Correlação de Spearman\n",
    "O **Coeficiente de Spearman** mede a relação **monotônica** entre duas variáveis, o que significa que, à medida que uma variável aumenta, a outra também aumenta ou diminui, mas não necessariamente de forma linear.\n",
    "\n",
    "- **Quando usar**: Use Spearman quando os dados não forem normalmente distribuídos ou se a relação entre as variáveis for **monotônica** (não linear).\n",
    "- Baseia-se no ranking das variáveis."
   ]
  },
  {
   "cell_type": "code",
   "execution_count": 51,
   "metadata": {
    "colab": {
     "base_uri": "https://localhost:8080/",
     "height": 238
    },
    "id": "40mHiCXVKsv8",
    "outputId": "55113ab5-edf8-483a-f51d-19bca8b23b54"
   },
   "outputs": [
    {
     "data": {
      "text/html": [
       "<div>\n",
       "<style scoped>\n",
       "    .dataframe tbody tr th:only-of-type {\n",
       "        vertical-align: middle;\n",
       "    }\n",
       "\n",
       "    .dataframe tbody tr th {\n",
       "        vertical-align: top;\n",
       "    }\n",
       "\n",
       "    .dataframe thead th {\n",
       "        text-align: right;\n",
       "    }\n",
       "</style>\n",
       "<table border=\"1\" class=\"dataframe\">\n",
       "  <thead>\n",
       "    <tr style=\"text-align: right;\">\n",
       "      <th></th>\n",
       "      <th>Temperatura_Media</th>\n",
       "      <th>Temperatura_Minima</th>\n",
       "      <th>Temperatura_Maxima</th>\n",
       "      <th>Precipitacao</th>\n",
       "      <th>Final_de_Semana</th>\n",
       "      <th>Consumo</th>\n",
       "    </tr>\n",
       "  </thead>\n",
       "  <tbody>\n",
       "    <tr>\n",
       "      <th>Temperatura_Media</th>\n",
       "      <td>1.00</td>\n",
       "      <td>0.86</td>\n",
       "      <td>0.91</td>\n",
       "      <td>0.02</td>\n",
       "      <td>-0.04</td>\n",
       "      <td>0.57</td>\n",
       "    </tr>\n",
       "    <tr>\n",
       "      <th>Temperatura_Minima</th>\n",
       "      <td>0.86</td>\n",
       "      <td>1.00</td>\n",
       "      <td>0.66</td>\n",
       "      <td>0.17</td>\n",
       "      <td>-0.05</td>\n",
       "      <td>0.39</td>\n",
       "    </tr>\n",
       "    <tr>\n",
       "      <th>Temperatura_Maxima</th>\n",
       "      <td>0.91</td>\n",
       "      <td>0.66</td>\n",
       "      <td>1.00</td>\n",
       "      <td>-0.12</td>\n",
       "      <td>-0.02</td>\n",
       "      <td>0.64</td>\n",
       "    </tr>\n",
       "    <tr>\n",
       "      <th>Precipitacao</th>\n",
       "      <td>0.02</td>\n",
       "      <td>0.17</td>\n",
       "      <td>-0.12</td>\n",
       "      <td>1.00</td>\n",
       "      <td>0.00</td>\n",
       "      <td>-0.17</td>\n",
       "    </tr>\n",
       "    <tr>\n",
       "      <th>Final_de_Semana</th>\n",
       "      <td>-0.04</td>\n",
       "      <td>-0.05</td>\n",
       "      <td>-0.02</td>\n",
       "      <td>0.00</td>\n",
       "      <td>1.00</td>\n",
       "      <td>0.50</td>\n",
       "    </tr>\n",
       "    <tr>\n",
       "      <th>Consumo</th>\n",
       "      <td>0.57</td>\n",
       "      <td>0.39</td>\n",
       "      <td>0.64</td>\n",
       "      <td>-0.17</td>\n",
       "      <td>0.50</td>\n",
       "      <td>1.00</td>\n",
       "    </tr>\n",
       "  </tbody>\n",
       "</table>\n",
       "</div>"
      ],
      "text/plain": [
       "                    Temperatura_Media  Temperatura_Minima  Temperatura_Maxima  \\\n",
       "Temperatura_Media                1.00                0.86                0.91   \n",
       "Temperatura_Minima               0.86                1.00                0.66   \n",
       "Temperatura_Maxima               0.91                0.66                1.00   \n",
       "Precipitacao                     0.02                0.17               -0.12   \n",
       "Final_de_Semana                 -0.04               -0.05               -0.02   \n",
       "Consumo                          0.57                0.39                0.64   \n",
       "\n",
       "                    Precipitacao  Final_de_Semana  Consumo  \n",
       "Temperatura_Media           0.02            -0.04     0.57  \n",
       "Temperatura_Minima          0.17            -0.05     0.39  \n",
       "Temperatura_Maxima         -0.12            -0.02     0.64  \n",
       "Precipitacao                1.00             0.00    -0.17  \n",
       "Final_de_Semana             0.00             1.00     0.50  \n",
       "Consumo                    -0.17             0.50     1.00  "
      ]
     },
     "execution_count": 51,
     "metadata": {},
     "output_type": "execute_result"
    }
   ],
   "source": [
    "corr_spearman = df.corr(method='spearman')\n",
    "corr_spearman"
   ]
  },
  {
   "cell_type": "markdown",
   "metadata": {
    "id": "AOV0FwtQLSCc"
   },
   "source": [
    "### Correlação de Kendall\n",
    "O **Coeficiente de Kendall** é outra medida não paramétrica que mede a associação entre duas variáveis. Ele leva em consideração a concordância entre pares de observações.\n",
    "\n",
    "- **Quando usar**: Utilize Kendall quando o número de dados é pequeno, ou quando há muitos empates nos dados.\n",
    "- Baseia-se na concordância e discordância de pares ordenados."
   ]
  },
  {
   "cell_type": "code",
   "execution_count": 52,
   "metadata": {
    "colab": {
     "base_uri": "https://localhost:8080/",
     "height": 238
    },
    "id": "WFVmDCOlLdak",
    "outputId": "d752419e-019b-471f-8ae3-4e10c115a61e"
   },
   "outputs": [
    {
     "data": {
      "text/html": [
       "<div>\n",
       "<style scoped>\n",
       "    .dataframe tbody tr th:only-of-type {\n",
       "        vertical-align: middle;\n",
       "    }\n",
       "\n",
       "    .dataframe tbody tr th {\n",
       "        vertical-align: top;\n",
       "    }\n",
       "\n",
       "    .dataframe thead th {\n",
       "        text-align: right;\n",
       "    }\n",
       "</style>\n",
       "<table border=\"1\" class=\"dataframe\">\n",
       "  <thead>\n",
       "    <tr style=\"text-align: right;\">\n",
       "      <th></th>\n",
       "      <th>Temperatura_Media</th>\n",
       "      <th>Temperatura_Minima</th>\n",
       "      <th>Temperatura_Maxima</th>\n",
       "      <th>Precipitacao</th>\n",
       "      <th>Final_de_Semana</th>\n",
       "      <th>Consumo</th>\n",
       "    </tr>\n",
       "  </thead>\n",
       "  <tbody>\n",
       "    <tr>\n",
       "      <th>Temperatura_Media</th>\n",
       "      <td>1.00</td>\n",
       "      <td>0.68</td>\n",
       "      <td>0.75</td>\n",
       "      <td>0.01</td>\n",
       "      <td>-0.03</td>\n",
       "      <td>0.40</td>\n",
       "    </tr>\n",
       "    <tr>\n",
       "      <th>Temperatura_Minima</th>\n",
       "      <td>0.68</td>\n",
       "      <td>1.00</td>\n",
       "      <td>0.48</td>\n",
       "      <td>0.12</td>\n",
       "      <td>-0.04</td>\n",
       "      <td>0.27</td>\n",
       "    </tr>\n",
       "    <tr>\n",
       "      <th>Temperatura_Maxima</th>\n",
       "      <td>0.75</td>\n",
       "      <td>0.48</td>\n",
       "      <td>1.00</td>\n",
       "      <td>-0.09</td>\n",
       "      <td>-0.02</td>\n",
       "      <td>0.46</td>\n",
       "    </tr>\n",
       "    <tr>\n",
       "      <th>Precipitacao</th>\n",
       "      <td>0.01</td>\n",
       "      <td>0.12</td>\n",
       "      <td>-0.09</td>\n",
       "      <td>1.00</td>\n",
       "      <td>0.00</td>\n",
       "      <td>-0.13</td>\n",
       "    </tr>\n",
       "    <tr>\n",
       "      <th>Final_de_Semana</th>\n",
       "      <td>-0.03</td>\n",
       "      <td>-0.04</td>\n",
       "      <td>-0.02</td>\n",
       "      <td>0.00</td>\n",
       "      <td>1.00</td>\n",
       "      <td>0.41</td>\n",
       "    </tr>\n",
       "    <tr>\n",
       "      <th>Consumo</th>\n",
       "      <td>0.40</td>\n",
       "      <td>0.27</td>\n",
       "      <td>0.46</td>\n",
       "      <td>-0.13</td>\n",
       "      <td>0.41</td>\n",
       "      <td>1.00</td>\n",
       "    </tr>\n",
       "  </tbody>\n",
       "</table>\n",
       "</div>"
      ],
      "text/plain": [
       "                    Temperatura_Media  Temperatura_Minima  Temperatura_Maxima  \\\n",
       "Temperatura_Media                1.00                0.68                0.75   \n",
       "Temperatura_Minima               0.68                1.00                0.48   \n",
       "Temperatura_Maxima               0.75                0.48                1.00   \n",
       "Precipitacao                     0.01                0.12               -0.09   \n",
       "Final_de_Semana                 -0.03               -0.04               -0.02   \n",
       "Consumo                          0.40                0.27                0.46   \n",
       "\n",
       "                    Precipitacao  Final_de_Semana  Consumo  \n",
       "Temperatura_Media           0.01            -0.03     0.40  \n",
       "Temperatura_Minima          0.12            -0.04     0.27  \n",
       "Temperatura_Maxima         -0.09            -0.02     0.46  \n",
       "Precipitacao                1.00             0.00    -0.13  \n",
       "Final_de_Semana             0.00             1.00     0.41  \n",
       "Consumo                    -0.13             0.41     1.00  "
      ]
     },
     "execution_count": 52,
     "metadata": {},
     "output_type": "execute_result"
    }
   ],
   "source": [
    "corr_kendall = df.corr(method='kendall')\n",
    "corr_kendall"
   ]
  },
  {
   "cell_type": "markdown",
   "metadata": {
    "id": "rIeqoLhU3JKz"
   },
   "source": [
    "### As três variáveis preditoras de maior correlação com a variável alvo"
   ]
  },
  {
   "cell_type": "code",
   "execution_count": 53,
   "metadata": {
    "colab": {
     "base_uri": "https://localhost:8080/"
    },
    "id": "gRcHQnMZvw2_",
    "outputId": "3fb43d04-d12f-4d31-bad8-fff1f6f6b6f5"
   },
   "outputs": [
    {
     "name": "stdout",
     "output_type": "stream",
     "text": [
      "['Temperatura_Maxima', 'Temperatura_Media', 'Final_de_Semana'] \n",
      "\n",
      "Temperatura_Maxima   0.64\n",
      "Temperatura_Media    0.57\n",
      "Final_de_Semana      0.51\n",
      "Name: Consumo, dtype: float64\n"
     ]
    }
   ],
   "source": [
    "top_corr = corr_pearson[\"Consumo\"].drop(\"Consumo\").abs().nlargest(3)\n",
    "print(top_corr.index.tolist(), \"\\n\")\n",
    "print(top_corr)"
   ]
  },
  {
   "cell_type": "markdown",
   "metadata": {
    "id": "X_JjbiGzMHWn"
   },
   "source": [
    "### Teste de Hipótese para correlação entre variável preditora de maior correlação e variável alvo\n",
    "\n",
    "- H0: rho = 0 (sem correlação)\n",
    "- H1: rho ≠ 0"
   ]
  },
  {
   "cell_type": "code",
   "execution_count": 54,
   "metadata": {
    "colab": {
     "base_uri": "https://localhost:8080/"
    },
    "id": "MW6A6zfNMNO4",
    "outputId": "1bed37c9-ea75-4994-9d9e-8e93e93d2a5f"
   },
   "outputs": [
    {
     "name": "stdout",
     "output_type": "stream",
     "text": [
      "Pearson r = 0.6427, p = 0.0000\n",
      "Spearman r = 0.6413, p = 0.0000\n",
      "Kendall tau = 0.4552, p = 0.0000\n",
      "\n",
      "Um p-valor <= 0,05 indica uma Correlação significativa\n"
     ]
    }
   ],
   "source": [
    "r, p_valor = pearsonr(df[top_corr.index[0]], df[\"Consumo\"])\n",
    "print(f\"Pearson r = {r:.4f}, p = {p_valor:.4f}\")\n",
    "\n",
    "r, p_valor = spearmanr(df[top_corr.index[0]], df[\"Consumo\"])\n",
    "print(f\"Spearman r = {r:.4f}, p = {p_valor:.4f}\")\n",
    "\n",
    "r, p_valor = kendalltau(df[top_corr.index[0]], df[\"Consumo\"])\n",
    "print(f\"Kendall tau = {r:.4f}, p = {p_valor:.4f}\")\n",
    "\n",
    "print(\"\\nUm p-valor <= 0,05 indica uma Correlação significativa\")"
   ]
  },
  {
   "cell_type": "markdown",
   "metadata": {
    "id": "g5ILVFyaM9Gp"
   },
   "source": [
    "Visualização para correlação entre a variável de maior correlação com a variável alvo"
   ]
  },
  {
   "cell_type": "code",
   "execution_count": 55,
   "metadata": {
    "colab": {
     "base_uri": "https://localhost:8080/",
     "height": 694
    },
    "id": "hSyJlRjOn42H",
    "outputId": "734c8834-a30a-4120-c6de-f33e3bf48a06"
   },
   "outputs": [
    {
     "data": {
      "image/png": "[encoded data removed]",
      "text/plain": [
       "<Figure size 1500x600 with 1 Axes>"
      ]
     },
     "metadata": {},
     "output_type": "display_data"
    }
   ],
   "source": [
    "sns.regplot(data= df, x= top_corr.index[0], y= \"Consumo\");"
   ]
  },
  {
   "cell_type": "markdown",
   "metadata": {
    "id": "-or-4MmVRbin"
   },
   "source": [
    "### Ausência de Multicolinearidade\n",
    "Correlação das variáveis independentes"
   ]
  },
  {
   "cell_type": "code",
   "execution_count": 56,
   "metadata": {
    "colab": {
     "base_uri": "https://localhost:8080/",
     "height": 206
    },
    "id": "OHIqfGvzSQwm",
    "outputId": "ea22cad4-59ad-4b2b-f01c-c3e6ab2d2aa3"
   },
   "outputs": [
    {
     "data": {
      "text/html": [
       "<div>\n",
       "<style scoped>\n",
       "    .dataframe tbody tr th:only-of-type {\n",
       "        vertical-align: middle;\n",
       "    }\n",
       "\n",
       "    .dataframe tbody tr th {\n",
       "        vertical-align: top;\n",
       "    }\n",
       "\n",
       "    .dataframe thead th {\n",
       "        text-align: right;\n",
       "    }\n",
       "</style>\n",
       "<table border=\"1\" class=\"dataframe\">\n",
       "  <thead>\n",
       "    <tr style=\"text-align: right;\">\n",
       "      <th></th>\n",
       "      <th>Temperatura_Media</th>\n",
       "      <th>Temperatura_Minima</th>\n",
       "      <th>Temperatura_Maxima</th>\n",
       "      <th>Precipitacao</th>\n",
       "      <th>Final_de_Semana</th>\n",
       "    </tr>\n",
       "  </thead>\n",
       "  <tbody>\n",
       "    <tr>\n",
       "      <th>Temperatura_Media</th>\n",
       "      <td>1.00</td>\n",
       "      <td>0.86</td>\n",
       "      <td>0.92</td>\n",
       "      <td>0.02</td>\n",
       "      <td>-0.05</td>\n",
       "    </tr>\n",
       "    <tr>\n",
       "      <th>Temperatura_Minima</th>\n",
       "      <td>0.86</td>\n",
       "      <td>1.00</td>\n",
       "      <td>0.67</td>\n",
       "      <td>0.10</td>\n",
       "      <td>-0.06</td>\n",
       "    </tr>\n",
       "    <tr>\n",
       "      <th>Temperatura_Maxima</th>\n",
       "      <td>0.92</td>\n",
       "      <td>0.67</td>\n",
       "      <td>1.00</td>\n",
       "      <td>-0.05</td>\n",
       "      <td>-0.04</td>\n",
       "    </tr>\n",
       "    <tr>\n",
       "      <th>Precipitacao</th>\n",
       "      <td>0.02</td>\n",
       "      <td>0.10</td>\n",
       "      <td>-0.05</td>\n",
       "      <td>1.00</td>\n",
       "      <td>0.00</td>\n",
       "    </tr>\n",
       "    <tr>\n",
       "      <th>Final_de_Semana</th>\n",
       "      <td>-0.05</td>\n",
       "      <td>-0.06</td>\n",
       "      <td>-0.04</td>\n",
       "      <td>0.00</td>\n",
       "      <td>1.00</td>\n",
       "    </tr>\n",
       "  </tbody>\n",
       "</table>\n",
       "</div>"
      ],
      "text/plain": [
       "                    Temperatura_Media  Temperatura_Minima  Temperatura_Maxima  \\\n",
       "Temperatura_Media                1.00                0.86                0.92   \n",
       "Temperatura_Minima               0.86                1.00                0.67   \n",
       "Temperatura_Maxima               0.92                0.67                1.00   \n",
       "Precipitacao                     0.02                0.10               -0.05   \n",
       "Final_de_Semana                 -0.05               -0.06               -0.04   \n",
       "\n",
       "                    Precipitacao  Final_de_Semana  \n",
       "Temperatura_Media           0.02            -0.05  \n",
       "Temperatura_Minima          0.10            -0.06  \n",
       "Temperatura_Maxima         -0.05            -0.04  \n",
       "Precipitacao                1.00             0.00  \n",
       "Final_de_Semana             0.00             1.00  "
      ]
     },
     "execution_count": 56,
     "metadata": {},
     "output_type": "execute_result"
    }
   ],
   "source": [
    "independentes = df.drop(\"Consumo\", axis=1)\n",
    "independentes.corr()"
   ]
  },
  {
   "cell_type": "markdown",
   "metadata": {
    "id": "ZvlZfhEAF2LC"
   },
   "source": [
    "### Divisão da base - Treino e Teste"
   ]
  },
  {
   "cell_type": "code",
   "execution_count": 57,
   "metadata": {
    "id": "0D3GLVCtF3gK"
   },
   "outputs": [],
   "source": [
    "X = df.drop([\"Consumo\"], axis=1)\n",
    "y = df[\"Consumo\"]\n",
    "\n",
    "# Separa os dados em treino (80%) e teste (20%)\n",
    "X_train, X_test, y_train, y_test = train_test_split(X, y, test_size=0.2, random_state=42,)"
   ]
  },
  {
   "cell_type": "markdown",
   "metadata": {
    "id": "xS9Tcnxv_MWj"
   },
   "source": [
    "## Escalonamento\n",
    "### Padronização dos Dados\n",
    "\n",
    "Padronização é o processo de centralizar as variáveis em torno da média e escalá-las para ter desvio padrão 1."
   ]
  },
  {
   "cell_type": "code",
   "execution_count": 58,
   "metadata": {
    "colab": {
     "base_uri": "https://localhost:8080/",
     "height": 143
    },
    "id": "KrPrbz4l_Rx8",
    "outputId": "05f45e71-dea8-42a1-a391-28ae00fbdb42"
   },
   "outputs": [
    {
     "data": {
      "text/html": [
       "<div>\n",
       "<style scoped>\n",
       "    .dataframe tbody tr th:only-of-type {\n",
       "        vertical-align: middle;\n",
       "    }\n",
       "\n",
       "    .dataframe tbody tr th {\n",
       "        vertical-align: top;\n",
       "    }\n",
       "\n",
       "    .dataframe thead th {\n",
       "        text-align: right;\n",
       "    }\n",
       "</style>\n",
       "<table border=\"1\" class=\"dataframe\">\n",
       "  <thead>\n",
       "    <tr style=\"text-align: right;\">\n",
       "      <th></th>\n",
       "      <th>Temperatura_Media</th>\n",
       "      <th>Temperatura_Minima</th>\n",
       "      <th>Temperatura_Maxima</th>\n",
       "      <th>Precipitacao</th>\n",
       "      <th>Final_de_Semana</th>\n",
       "    </tr>\n",
       "  </thead>\n",
       "  <tbody>\n",
       "    <tr>\n",
       "      <th>0</th>\n",
       "      <td>-0.58</td>\n",
       "      <td>-1.57</td>\n",
       "      <td>0.03</td>\n",
       "      <td>-0.43</td>\n",
       "      <td>-0.59</td>\n",
       "    </tr>\n",
       "    <tr>\n",
       "      <th>1</th>\n",
       "      <td>-0.33</td>\n",
       "      <td>0.24</td>\n",
       "      <td>-0.59</td>\n",
       "      <td>3.51</td>\n",
       "      <td>-0.59</td>\n",
       "    </tr>\n",
       "    <tr>\n",
       "      <th>2</th>\n",
       "      <td>-2.04</td>\n",
       "      <td>-1.57</td>\n",
       "      <td>-2.39</td>\n",
       "      <td>-0.43</td>\n",
       "      <td>-0.59</td>\n",
       "    </tr>\n",
       "  </tbody>\n",
       "</table>\n",
       "</div>"
      ],
      "text/plain": [
       "   Temperatura_Media  Temperatura_Minima  Temperatura_Maxima  Precipitacao  \\\n",
       "0              -0.58               -1.57                0.03         -0.43   \n",
       "1              -0.33                0.24               -0.59          3.51   \n",
       "2              -2.04               -1.57               -2.39         -0.43   \n",
       "\n",
       "   Final_de_Semana  \n",
       "0            -0.59  \n",
       "1            -0.59  \n",
       "2            -0.59  "
      ]
     },
     "execution_count": 58,
     "metadata": {},
     "output_type": "execute_result"
    }
   ],
   "source": [
    "standard = StandardScaler()\n",
    "X_train_standard = standard.fit_transform(X_train)\n",
    "X_test_standard = standard.transform(X_test)\n",
    "\n",
    "X_train_standard = pd.DataFrame(X_train_standard, columns=X_train.columns)\n",
    "X_test_standard = pd.DataFrame(X_test_standard, columns=X_test.columns)\n",
    "X_train_standard.head(3)"
   ]
  },
  {
   "cell_type": "markdown",
   "metadata": {
    "id": "aCXoGxTsBS2Q"
   },
   "source": [
    "### Normalização Min-Max\n",
    "A normalização Min-Max escala as variáveis para um intervalo específico, geralmente [0, 1], útil para algoritmos sensíveis à escala dos dados"
   ]
  },
  {
   "cell_type": "code",
   "execution_count": 59,
   "metadata": {
    "colab": {
     "base_uri": "https://localhost:8080/",
     "height": 143
    },
    "id": "AD4tdZ5FB7nt",
    "outputId": "ed13e9d4-47fb-4e8b-a6b9-ada0dbd749ca"
   },
   "outputs": [
    {
     "data": {
      "text/html": [
       "<div>\n",
       "<style scoped>\n",
       "    .dataframe tbody tr th:only-of-type {\n",
       "        vertical-align: middle;\n",
       "    }\n",
       "\n",
       "    .dataframe tbody tr th {\n",
       "        vertical-align: top;\n",
       "    }\n",
       "\n",
       "    .dataframe thead th {\n",
       "        text-align: right;\n",
       "    }\n",
       "</style>\n",
       "<table border=\"1\" class=\"dataframe\">\n",
       "  <thead>\n",
       "    <tr style=\"text-align: right;\">\n",
       "      <th></th>\n",
       "      <th>Temperatura_Media</th>\n",
       "      <th>Temperatura_Minima</th>\n",
       "      <th>Temperatura_Maxima</th>\n",
       "      <th>Precipitacao</th>\n",
       "      <th>Final_de_Semana</th>\n",
       "    </tr>\n",
       "  </thead>\n",
       "  <tbody>\n",
       "    <tr>\n",
       "      <th>0</th>\n",
       "      <td>0.40</td>\n",
       "      <td>0.16</td>\n",
       "      <td>0.55</td>\n",
       "      <td>0.00</td>\n",
       "      <td>0.00</td>\n",
       "    </tr>\n",
       "    <tr>\n",
       "      <th>1</th>\n",
       "      <td>0.45</td>\n",
       "      <td>0.53</td>\n",
       "      <td>0.43</td>\n",
       "      <td>0.56</td>\n",
       "      <td>0.00</td>\n",
       "    </tr>\n",
       "    <tr>\n",
       "      <th>2</th>\n",
       "      <td>0.10</td>\n",
       "      <td>0.16</td>\n",
       "      <td>0.07</td>\n",
       "      <td>0.00</td>\n",
       "      <td>0.00</td>\n",
       "    </tr>\n",
       "  </tbody>\n",
       "</table>\n",
       "</div>"
      ],
      "text/plain": [
       "   Temperatura_Media  Temperatura_Minima  Temperatura_Maxima  Precipitacao  \\\n",
       "0               0.40                0.16                0.55          0.00   \n",
       "1               0.45                0.53                0.43          0.56   \n",
       "2               0.10                0.16                0.07          0.00   \n",
       "\n",
       "   Final_de_Semana  \n",
       "0             0.00  \n",
       "1             0.00  \n",
       "2             0.00  "
      ]
     },
     "execution_count": 59,
     "metadata": {},
     "output_type": "execute_result"
    }
   ],
   "source": [
    "minmax = MinMaxScaler()\n",
    "X_train_minmax = minmax.fit_transform(X_train)\n",
    "X_test_minmax = minmax.transform(X_test)\n",
    "\n",
    "X_train_minmax = pd.DataFrame(X_train_minmax, columns=X_train.columns)\n",
    "X_test_minmax = pd.DataFrame(X_test_minmax, columns=X_test.columns)\n",
    "X_train_minmax.head(3)"
   ]
  },
  {
   "cell_type": "markdown",
   "metadata": {
    "id": "qzrfOFLcEYY3"
   },
   "source": [
    "## Seleção de Variáveis\n",
    "### Stepwise com AIC\n",
    "**Teoria:**\n",
    "**Stepwise Selection** é uma técnica que combina forward e backward selection, usando métricas como AIC.\n",
    "- AIC penaliza modelos complexos.\n",
    "- Permite encontrar subconjuntos de variáveis com bom poder preditivo sem overfitting."
   ]
  },
  {
   "cell_type": "code",
   "execution_count": 60,
   "metadata": {
    "id": "lKN6pGW6D7BU"
   },
   "outputs": [],
   "source": [
    "def calculate_aic(model, X, y):\n",
    "    n = len(y)\n",
    "    k = X.shape[1] + 1  # número de parâmetros, incluindo o intercepto\n",
    "    y_pred = model.predict(X)\n",
    "    mse = mean_squared_error(y, y_pred)\n",
    "    aic = n * np.log(mse) + 2 * k\n",
    "    return aic"
   ]
  },
  {
   "cell_type": "markdown",
   "metadata": {
    "id": "7gRt1pWUoz2t"
   },
   "source": [
    "### Implementação Stepwise Forward + Backward\n",
    "Iremos criar as seguintes variáveis:\n",
    "\n",
    "- selected_features: Lista que armazenará as variáveis selecionadas durante o procedimento.\n",
    "- stepwise_model: Modelo de regressão linear a ser ajustado.\n",
    "- best_aic: Variável que armazenará o menor AIC encontrado."
   ]
  },
  {
   "cell_type": "markdown",
   "metadata": {
    "id": "cK1Uoo_RpTuG"
   },
   "source": [
    "Seleção de variáveis com Stepwise (avançando e removendo as variáveis com base no menor AIC)"
   ]
  },
  {
   "cell_type": "code",
   "execution_count": 61,
   "metadata": {
    "colab": {
     "base_uri": "https://localhost:8080/"
    },
    "id": "ujTX19pppKN2",
    "outputId": "e8f84eaa-c7e3-47dc-a604-f229b4387f03"
   },
   "outputs": [
    {
     "name": "stdout",
     "output_type": "stream",
     "text": [
      "Selecionadas pelo Stepwise: ['Temperatura_Maxima', 'Final_de_Semana', 'Precipitacao']\n"
     ]
    }
   ],
   "source": [
    "def forward_backward_stepwise_selection(X, y):\n",
    "    selected = []\n",
    "    best_aic = float('inf')\n",
    "    model = LinearRegression()\n",
    "\n",
    "    while True:\n",
    "        changed = False\n",
    "        candidates = [col for col in X.columns if col not in selected]\n",
    "        best_candidate, best_model = None, None\n",
    "\n",
    "        for feat in candidates:\n",
    "            model.fit(X[selected + [feat]], y)\n",
    "            aic = calculate_aic(model, X[selected + [feat]], y)\n",
    "            if aic < best_aic:\n",
    "                best_aic, best_candidate = aic, feat\n",
    "                changed = True\n",
    "\n",
    "        if changed:\n",
    "            selected.append(best_candidate)\n",
    "        else:\n",
    "            break\n",
    "\n",
    "    return selected\n",
    "\n",
    "# Retorna lista de variáveis selecionadas pelo critério de AIC\n",
    "selected_stepwise = forward_backward_stepwise_selection(X_train_standard, y_train)\n",
    "print(\"Selecionadas pelo Stepwise:\", selected_stepwise)"
   ]
  },
  {
   "cell_type": "markdown",
   "metadata": {
    "id": "rjOgOfAMqKAZ"
   },
   "source": [
    "**Treinando modelo com variáveis selecionadas**\n",
    "\n",
    "Ajuste do modelo Linear com as variáveis escolhidas"
   ]
  },
  {
   "cell_type": "code",
   "execution_count": 62,
   "metadata": {
    "id": "ZrlvpNofqL1s"
   },
   "outputs": [],
   "source": [
    "model_stepwise = LinearRegression().fit(X_train_standard[selected_stepwise], y_train)\n",
    "y_pred_stepwise = model_stepwise.predict(X_test_standard[selected_stepwise])"
   ]
  },
  {
   "cell_type": "markdown",
   "metadata": {
    "id": "oN8cWEDwq2Tb"
   },
   "source": [
    "**Avaliação do modelo Stepwise**\n",
    "\n",
    "Calcular as métricas de avaliação para o modelo Stepwise"
   ]
  },
  {
   "cell_type": "code",
   "execution_count": 63,
   "metadata": {
    "colab": {
     "base_uri": "https://localhost:8080/",
     "height": 81
    },
    "id": "iyttzm7Hq3Fp",
    "outputId": "c0e8ec91-cf8b-4f33-b231-9897f9559adf"
   },
   "outputs": [
    {
     "data": {
      "text/html": [
       "<div>\n",
       "<style scoped>\n",
       "    .dataframe tbody tr th:only-of-type {\n",
       "        vertical-align: middle;\n",
       "    }\n",
       "\n",
       "    .dataframe tbody tr th {\n",
       "        vertical-align: top;\n",
       "    }\n",
       "\n",
       "    .dataframe thead th {\n",
       "        text-align: right;\n",
       "    }\n",
       "</style>\n",
       "<table border=\"1\" class=\"dataframe\">\n",
       "  <thead>\n",
       "    <tr style=\"text-align: right;\">\n",
       "      <th></th>\n",
       "      <th>Modelo</th>\n",
       "      <th>MAE</th>\n",
       "      <th>MSE</th>\n",
       "      <th>AIC</th>\n",
       "      <th>BIC</th>\n",
       "      <th>R²</th>\n",
       "    </tr>\n",
       "  </thead>\n",
       "  <tbody>\n",
       "    <tr>\n",
       "      <th>0</th>\n",
       "      <td>Stepwise</td>\n",
       "      <td>2.05</td>\n",
       "      <td>5.67</td>\n",
       "      <td>132.61</td>\n",
       "      <td>139.48</td>\n",
       "      <td>0.74</td>\n",
       "    </tr>\n",
       "  </tbody>\n",
       "</table>\n",
       "</div>"
      ],
      "text/plain": [
       "     Modelo  MAE  MSE    AIC    BIC   R²\n",
       "0  Stepwise 2.05 5.67 132.61 139.48 0.74"
      ]
     },
     "execution_count": 63,
     "metadata": {},
     "output_type": "execute_result"
    }
   ],
   "source": [
    "n = len(y_test)\n",
    "k = len(selected_stepwise)\n",
    "mse = mean_squared_error(y_test, y_pred_stepwise)\n",
    "aic = n * np.log(mse) + 2 * k\n",
    "bic = n * np.log(mse) + k * np.log(n)\n",
    "\n",
    "results = [{\n",
    "    'Modelo': 'Stepwise',\n",
    "    'MAE': mean_absolute_error(y_test, y_pred_stepwise),\n",
    "    'MSE': mse,\n",
    "    'AIC': aic,\n",
    "    'BIC': bic,\n",
    "    'R²': model_stepwise.score(X_test_standard[selected_stepwise], y_test)\n",
    "}]\n",
    "\n",
    "pd.DataFrame(results)"
   ]
  },
  {
   "cell_type": "markdown",
   "metadata": {
    "id": "wTMJ2quhuvCf"
   },
   "source": [
    "### SFS (Sequential Feature Selector)\n",
    "\n",
    "O **SFS (mlxtend)** realiza seleção de variáveis de forma sequencial:\n",
    "- `forward=True`: começa com nenhuma variável e vai adicionando.\n",
    "- `floating=True`: permite remoção/backward no meio do processo.\n",
    "- Permite validação cruzada com métrica personalizada (ex: MSE)."
   ]
  },
  {
   "cell_type": "code",
   "execution_count": 64,
   "metadata": {
    "colab": {
     "base_uri": "https://localhost:8080/"
    },
    "id": "bXuO8r75uwai",
    "outputId": "fc31beb1-61c9-4323-837f-38dc92079e0e"
   },
   "outputs": [
    {
     "name": "stdout",
     "output_type": "stream",
     "text": [
      "Variáveis selecionadas pelo SFS: ['Temperatura_Maxima', 'Precipitacao', 'Final_de_Semana']\n"
     ]
    }
   ],
   "source": [
    "sfs_model = SFS(LinearRegression(),\n",
    "                k_features='best',\n",
    "                forward=True,\n",
    "                floating=True,  # Ativa stepwise (entra e remove variáveis)\n",
    "                scoring='neg_mean_squared_error',\n",
    "                cv=5)\n",
    "\n",
    "sfs_model.fit(X_train_standard, y_train)\n",
    "print(\"Variáveis selecionadas pelo SFS:\", list(sfs_model.k_feature_names_))"
   ]
  },
  {
   "cell_type": "markdown",
   "metadata": {
    "id": "GeHTkR6xvFpS"
   },
   "source": [
    "**Avaliação do modelo SFS**"
   ]
  },
  {
   "cell_type": "code",
   "execution_count": 65,
   "metadata": {
    "colab": {
     "base_uri": "https://localhost:8080/",
     "height": 112
    },
    "id": "8y1k4z-cvbpp",
    "outputId": "067401dc-2804-4e3b-91e0-e73d34cca4db"
   },
   "outputs": [
    {
     "data": {
      "text/html": [
       "<div>\n",
       "<style scoped>\n",
       "    .dataframe tbody tr th:only-of-type {\n",
       "        vertical-align: middle;\n",
       "    }\n",
       "\n",
       "    .dataframe tbody tr th {\n",
       "        vertical-align: top;\n",
       "    }\n",
       "\n",
       "    .dataframe thead th {\n",
       "        text-align: right;\n",
       "    }\n",
       "</style>\n",
       "<table border=\"1\" class=\"dataframe\">\n",
       "  <thead>\n",
       "    <tr style=\"text-align: right;\">\n",
       "      <th></th>\n",
       "      <th>Modelo</th>\n",
       "      <th>MAE</th>\n",
       "      <th>MSE</th>\n",
       "      <th>AIC</th>\n",
       "      <th>BIC</th>\n",
       "      <th>R²</th>\n",
       "    </tr>\n",
       "  </thead>\n",
       "  <tbody>\n",
       "    <tr>\n",
       "      <th>0</th>\n",
       "      <td>Stepwise</td>\n",
       "      <td>2.05</td>\n",
       "      <td>5.67</td>\n",
       "      <td>132.61</td>\n",
       "      <td>139.48</td>\n",
       "      <td>0.74</td>\n",
       "    </tr>\n",
       "    <tr>\n",
       "      <th>1</th>\n",
       "      <td>SFS (mlxtend)</td>\n",
       "      <td>2.05</td>\n",
       "      <td>5.67</td>\n",
       "      <td>132.61</td>\n",
       "      <td>139.48</td>\n",
       "      <td>0.74</td>\n",
       "    </tr>\n",
       "  </tbody>\n",
       "</table>\n",
       "</div>"
      ],
      "text/plain": [
       "          Modelo  MAE  MSE    AIC    BIC   R²\n",
       "0       Stepwise 2.05 5.67 132.61 139.48 0.74\n",
       "1  SFS (mlxtend) 2.05 5.67 132.61 139.48 0.74"
      ]
     },
     "execution_count": 65,
     "metadata": {},
     "output_type": "execute_result"
    }
   ],
   "source": [
    "selected_sfs = list(sfs_model.k_feature_names_)\n",
    "model_sfs = LinearRegression().fit(X_train_standard[selected_sfs], y_train)\n",
    "y_pred_sfs = model_sfs.predict(X_test_standard[selected_sfs])\n",
    "\n",
    "n = len(y_test)\n",
    "k = len(selected_sfs)\n",
    "mse = mean_squared_error(y_test, y_pred_sfs)\n",
    "aic = n * np.log(mse) + 2 * k\n",
    "bic = n * np.log(mse) + k * np.log(n)\n",
    "\n",
    "results.append({\n",
    "    'Modelo': 'SFS (mlxtend)',\n",
    "    'MAE': mean_absolute_error(y_test, y_pred_sfs),\n",
    "    'MSE': mse,\n",
    "    'AIC': aic,\n",
    "    'BIC': bic,\n",
    "    'R²': model_sfs.score(X_test_standard[selected_sfs], y_test)\n",
    "})\n",
    "\n",
    "pd.DataFrame(results)"
   ]
  },
  {
   "cell_type": "markdown",
   "metadata": {
    "id": "UmN8aGYZvrSn"
   },
   "source": [
    "### ***Lasso (L1 Regularization)***\n",
    "\n",
    "O **Lasso** aplica uma penalização  L1 que força alguns coeficientes a serem zero:\n",
    "- Elimina variáveis irrelevantes automaticamente.\n",
    "- Útil quando há muitas variáveis correlacionadas.\n",
    "- O parâmetro alpha controla a intensidade da penalização."
   ]
  },
  {
   "cell_type": "code",
   "execution_count": 66,
   "metadata": {
    "colab": {
     "base_uri": "https://localhost:8080/"
    },
    "id": "3uYitq_9vsPL",
    "outputId": "46342a41-43f7-4c23-c02a-42e71d8ff664"
   },
   "outputs": [
    {
     "name": "stdout",
     "output_type": "stream",
     "text": [
      "Selecionadas pelo Lasso: ['Temperatura_Maxima', 'Precipitacao', 'Final_de_Semana']\n"
     ]
    }
   ],
   "source": [
    "alphas = np.logspace(-4, 4, 100)\n",
    "lasso_cv = GridSearchCV(Lasso(), {'alpha': alphas}, cv=5)\n",
    "lasso_cv.fit(X_train_standard, y_train)\n",
    "\n",
    "best_alpha = lasso_cv.best_params_['alpha']\n",
    "\n",
    "# Modelo final com o melhor alpha encontrado\n",
    "lasso_final = Lasso(alpha=best_alpha).fit(X_train_standard, y_train)\n",
    "\n",
    "# Coeficientes diferentes de zero indicam variáveis selecionadas\n",
    "lasso_coef = lasso_final.coef_\n",
    "selected_lasso = X.columns[lasso_coef != 0]\n",
    "print(\"Selecionadas pelo Lasso:\", list(selected_lasso))"
   ]
  },
  {
   "cell_type": "code",
   "execution_count": 67,
   "metadata": {
    "id": "gk3VFOKiwKu9"
   },
   "outputs": [],
   "source": [
    "y_pred_lasso = lasso_final.predict(X_test_standard)\n",
    "\n",
    "n = len(y_test)\n",
    "k = len(selected_lasso)\n",
    "mse = mean_squared_error(y_test, y_pred_lasso)\n",
    "aic = n * np.log(mse) + 2 * k\n",
    "bic = n * np.log(mse) + k * np.log(n)\n",
    "\n",
    "results.append({\n",
    "    'Modelo': 'Lasso',\n",
    "    'MAE': mean_absolute_error(y_test, y_pred_lasso),\n",
    "    'MSE': mse,\n",
    "    'AIC': aic,\n",
    "    'BIC': bic,\n",
    "    'R²': lasso_final.score(X_test_standard, y_test)\n",
    "})"
   ]
  },
  {
   "cell_type": "markdown",
   "metadata": {
    "id": "MLfXvBSQwOlH"
   },
   "source": [
    "### Comparando os modelos"
   ]
  },
  {
   "cell_type": "code",
   "execution_count": 68,
   "metadata": {
    "colab": {
     "base_uri": "https://localhost:8080/"
    },
    "id": "SYyz39AGwPax",
    "outputId": "1577eee8-7534-4146-ad4f-accccf4db94d"
   },
   "outputs": [
    {
     "name": "stdout",
     "output_type": "stream",
     "text": [
      "          Modelo  MAE  MSE    AIC    BIC   R²\n",
      "0       Stepwise 2.05 5.67 132.61 139.48 0.74\n",
      "1  SFS (mlxtend) 2.05 5.67 132.61 139.48 0.74\n",
      "2          Lasso 2.07 5.74 133.56 140.43 0.74\n"
     ]
    }
   ],
   "source": [
    "results_df = pd.DataFrame(results)\n",
    "print(results_df)"
   ]
  },
  {
   "cell_type": "markdown",
   "metadata": {
    "id": "gtuwDjw9wi61"
   },
   "source": [
    "### Conclusões Didáticas\n",
    "- **Stepwise**: bom ponto de partida, mas pode gerar overfitting.\n",
    "- **Lasso**: ótimo para regularização e eliminar colinearidade.\n",
    "- **SFS**: flexível e robusto com validação cruzada, porém mais lento."
   ]
  }
 ],
 "metadata": {
  "colab": {
   "provenance": []
  },
  "kernelspec": {
   "display_name": "Python 3 (ipykernel)",
   "language": "python",
   "name": "python3"
  },
  "language_info": {
   "codemirror_mode": {
    "name": "ipython",
    "version": 3
   },
   "file_extension": ".py",
   "mimetype": "text/x-python",
   "name": "python",
   "nbconvert_exporter": "python",
   "pygments_lexer": "ipython3",
   "version": "3.12.11"
  }
 },
 "nbformat": 4,
 "nbformat_minor": 4
}
